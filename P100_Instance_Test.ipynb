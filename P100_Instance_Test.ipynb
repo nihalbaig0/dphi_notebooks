{
  "nbformat": 4,
  "nbformat_minor": 0,
  "metadata": {
    "accelerator": "GPU",
    "colab": {
      "name": "P100 Instance Test.ipynb",
      "provenance": [],
      "collapsed_sections": [],
      "machine_shape": "hm",
      "include_colab_link": true
    },
    "kernelspec": {
      "display_name": "Python 3",
      "name": "python3"
    }
  },
  "cells": [
    {
      "cell_type": "markdown",
      "metadata": {
        "id": "view-in-github",
        "colab_type": "text"
      },
      "source": [
        "<a href=\"https://colab.research.google.com/github/nihalbaig0/dphi_notebooks/blob/master/P100_Instance_Test.ipynb\" target=\"_parent\"><img src=\"https://colab.research.google.com/assets/colab-badge.svg\" alt=\"Open In Colab\"/></a>"
      ]
    },
    {
      "cell_type": "code",
      "metadata": {
        "id": "Yp0NTCvyBjNG"
      },
      "source": [
        "# Copy this Notebook to always get a Colab Notebook with a Tesla P100 GPU and 25GB of RAM \n",
        "\n",
        "# Credits to 0x00groot for finding this\n",
        "https://www.reddit.com/r/MachineLearning/comments/m73sy7/p_my_side_project_cloud_gpus_for_13_the_cost_of/gratmkg?utm_source=share&utm_medium=web2x&context=3\n",
        "\n",
        "# Link to original notebook\n",
        "https://colab.research.google.com/drive/1D6krVG0PPJR2Je9g5eN_2h6JP73_NUXz#scrollTo=W3a4PwlSfS8b"
      ],
      "execution_count": null,
      "outputs": []
    },
    {
      "cell_type": "code",
      "metadata": {
        "colab": {
          "base_uri": "https://localhost:8080/"
        },
        "id": "pJbYXou6chZf",
        "outputId": "1c0719b8-1e17-4a3d-b478-081383c0506b"
      },
      "source": [
        "!nvidia-smi"
      ],
      "execution_count": null,
      "outputs": [
        {
          "output_type": "stream",
          "text": [
            "Thu Mar 18 19:03:00 2021       \n",
            "+-----------------------------------------------------------------------------+\n",
            "| NVIDIA-SMI 460.56       Driver Version: 460.32.03    CUDA Version: 11.2     |\n",
            "|-------------------------------+----------------------+----------------------+\n",
            "| GPU  Name        Persistence-M| Bus-Id        Disp.A | Volatile Uncorr. ECC |\n",
            "| Fan  Temp  Perf  Pwr:Usage/Cap|         Memory-Usage | GPU-Util  Compute M. |\n",
            "|                               |                      |               MIG M. |\n",
            "|===============================+======================+======================|\n",
            "|   0  Tesla P100-PCIE...  Off  | 00000000:00:04.0 Off |                    0 |\n",
            "| N/A   35C    P0    28W / 250W |      0MiB / 16280MiB |      0%      Default |\n",
            "|                               |                      |                  N/A |\n",
            "+-------------------------------+----------------------+----------------------+\n",
            "                                                                               \n",
            "+-----------------------------------------------------------------------------+\n",
            "| Processes:                                                                  |\n",
            "|  GPU   GI   CI        PID   Type   Process name                  GPU Memory |\n",
            "|        ID   ID                                                   Usage      |\n",
            "|=============================================================================|\n",
            "|  No running processes found                                                 |\n",
            "+-----------------------------------------------------------------------------+\n"
          ],
          "name": "stdout"
        }
      ]
    },
    {
      "cell_type": "code",
      "metadata": {
        "colab": {
          "base_uri": "https://localhost:8080/"
        },
        "id": "yMSfNZLrt-pd",
        "outputId": "94832614-6416-4da3-9095-5b491fe154ac"
      },
      "source": [
        "!pip install comet_ml"
      ],
      "execution_count": null,
      "outputs": [
        {
          "output_type": "stream",
          "text": [
            "Collecting comet_ml\n",
            "\u001b[?25l  Downloading https://files.pythonhosted.org/packages/a0/6f/cbe12d6022cd8f0c9446f195a6ade99bad2a26cc7c186875e1c1fffd1c0e/comet_ml-3.6.0-py2.py3-none-any.whl (254kB)\n",
            "\u001b[K     |████████████████████████████████| 256kB 5.9MB/s \n",
            "\u001b[?25hCollecting websocket-client>=0.55.0\n",
            "\u001b[?25l  Downloading https://files.pythonhosted.org/packages/08/33/80e0d4f60e84a1ddd9a03f340be1065a2a363c47ce65c4bd3bae65ce9631/websocket_client-0.58.0-py2.py3-none-any.whl (61kB)\n",
            "\u001b[K     |████████████████████████████████| 61kB 9.4MB/s \n",
            "\u001b[?25hCollecting wurlitzer>=1.0.2\n",
            "  Downloading https://files.pythonhosted.org/packages/0c/1e/52f4effa64a447c4ec0fb71222799e2ac32c55b4b6c1725fccdf6123146e/wurlitzer-2.0.1-py2.py3-none-any.whl\n",
            "Collecting everett[ini]>=1.0.1; python_version >= \"3.0\"\n",
            "  Downloading https://files.pythonhosted.org/packages/fe/dc/38593280ec30fe1cb2611ec65554b76b68d13582bf490113e3332cdd85ea/everett-1.0.3-py2.py3-none-any.whl\n",
            "Requirement already satisfied: jsonschema!=3.1.0,>=2.6.0 in /usr/local/lib/python3.7/dist-packages (from comet_ml) (2.6.0)\n",
            "Requirement already satisfied: requests>=2.18.4 in /usr/local/lib/python3.7/dist-packages (from comet_ml) (2.23.0)\n",
            "Requirement already satisfied: six in /usr/local/lib/python3.7/dist-packages (from comet_ml) (1.15.0)\n",
            "Collecting dulwich>=0.20.6; python_version >= \"3.0\"\n",
            "\u001b[?25l  Downloading https://files.pythonhosted.org/packages/d8/51/0725560f04a65ef8ce45a379bcd3d5abf1976f2ec79452e048f056b0bdf1/dulwich-0.20.20-cp37-cp37m-manylinux2010_x86_64.whl (514kB)\n",
            "\u001b[K     |████████████████████████████████| 522kB 34.6MB/s \n",
            "\u001b[?25hRequirement already satisfied: nvidia-ml-py3>=7.352.0 in /usr/local/lib/python3.7/dist-packages (from comet_ml) (7.352.0)\n",
            "Requirement already satisfied: wrapt>=1.11.2 in /usr/local/lib/python3.7/dist-packages (from comet_ml) (1.12.1)\n",
            "Collecting requests-toolbelt>=0.8.0\n",
            "\u001b[?25l  Downloading https://files.pythonhosted.org/packages/60/ef/7681134338fc097acef8d9b2f8abe0458e4d87559c689a8c306d0957ece5/requests_toolbelt-0.9.1-py2.py3-none-any.whl (54kB)\n",
            "\u001b[K     |████████████████████████████████| 61kB 9.4MB/s \n",
            "\u001b[?25hCollecting configobj; extra == \"ini\"\n",
            "  Downloading https://files.pythonhosted.org/packages/64/61/079eb60459c44929e684fa7d9e2fdca403f67d64dd9dbac27296be2e0fab/configobj-5.0.6.tar.gz\n",
            "Requirement already satisfied: certifi>=2017.4.17 in /usr/local/lib/python3.7/dist-packages (from requests>=2.18.4->comet_ml) (2020.12.5)\n",
            "Requirement already satisfied: urllib3!=1.25.0,!=1.25.1,<1.26,>=1.21.1 in /usr/local/lib/python3.7/dist-packages (from requests>=2.18.4->comet_ml) (1.24.3)\n",
            "Requirement already satisfied: chardet<4,>=3.0.2 in /usr/local/lib/python3.7/dist-packages (from requests>=2.18.4->comet_ml) (3.0.4)\n",
            "Requirement already satisfied: idna<3,>=2.5 in /usr/local/lib/python3.7/dist-packages (from requests>=2.18.4->comet_ml) (2.10)\n",
            "Building wheels for collected packages: configobj\n",
            "  Building wheel for configobj (setup.py) ... \u001b[?25l\u001b[?25hdone\n",
            "  Created wheel for configobj: filename=configobj-5.0.6-cp37-none-any.whl size=34547 sha256=29d67e2d329a8bfd996aacabc5964488b67b035740382598595fe6f42852de53\n",
            "  Stored in directory: /root/.cache/pip/wheels/f1/e4/16/4981ca97c2d65106b49861e0b35e2660695be7219a2d351ee0\n",
            "Successfully built configobj\n",
            "Installing collected packages: websocket-client, wurlitzer, configobj, everett, dulwich, requests-toolbelt, comet-ml\n",
            "Successfully installed comet-ml-3.6.0 configobj-5.0.6 dulwich-0.20.20 everett-1.0.3 requests-toolbelt-0.9.1 websocket-client-0.58.0 wurlitzer-2.0.1\n"
          ],
          "name": "stdout"
        }
      ]
    },
    {
      "cell_type": "code",
      "metadata": {
        "colab": {
          "base_uri": "https://localhost:8080/"
        },
        "id": "Qt_cJrOPuTV0",
        "outputId": "fee762cb-a2cf-402a-a570-8fe65f07fe6e"
      },
      "source": [
        "import comet_ml\n",
        "import getpass, os\n",
        "os.environ[\"COMET_API_KEY\"] = getpass.getpass(\"Paste your COMET API KEY: \")"
      ],
      "execution_count": null,
      "outputs": [
        {
          "output_type": "stream",
          "text": [
            "Paste your COMET API KEY: ··········\n"
          ],
          "name": "stdout"
        }
      ]
    },
    {
      "cell_type": "code",
      "metadata": {
        "id": "H2kmND5muGHD"
      },
      "source": [
        "from tensorflow import keras\n",
        "\n",
        "from tensorflow.keras.datasets import cifar10\n",
        "from tensorflow.keras.models import Sequential\n",
        "from tensorflow.keras.layers import Dense, Flatten, Conv2D, MaxPooling2D\n",
        "from tensorflow.keras.losses import categorical_crossentropy\n",
        "from tensorflow.keras.optimizers import Adam\n",
        "\n",
        "LABELS = [\n",
        "    \"airplane\",\n",
        "    \"automobile\",\n",
        "    \"bird\",\n",
        "    \"cat\",\n",
        "    \"deer\",\n",
        "    \"dog\",\n",
        "    \"frog\",\n",
        "    \"horse\",\n",
        "    \"ship\",\n",
        "    \"truck\",\n",
        "]\n",
        "\n",
        "\n",
        "class ConfusionMatrixCallback(keras.callbacks.Callback):\n",
        "    def __init__(self, experiment, inputs, targets, interval):\n",
        "        self.experiment = experiment\n",
        "\n",
        "        self.inputs = inputs\n",
        "        self.targets = targets\n",
        "        self.interval = interval\n",
        "\n",
        "    def index_to_example(self, index):\n",
        "        image_array = self.inputs[index]\n",
        "        image_name = \"confusion-matrix-%05d.png\" % index\n",
        "        results = experiment.log_image(image_array, name=image_name)\n",
        "        # Return sample, assetId (index is added automatically)\n",
        "        return {\"sample\": image_name, \"assetId\": results[\"imageId\"]}\n",
        "\n",
        "    def on_epoch_end(self, epoch, logs={}):\n",
        "        if (epoch + 1) % self.interval != 0:\n",
        "            return\n",
        "\n",
        "        predicted = self.model.predict(self.inputs)\n",
        "        self.experiment.log_confusion_matrix(\n",
        "            self.targets,\n",
        "            predicted,\n",
        "            labels=LABELS,\n",
        "            index_to_example_function=self.index_to_example,\n",
        "            title=\"Confusion Matrix, Epoch #%d\" % (epoch + 1),\n",
        "            file_name=\"confusion-matrix-%03d.json\" % (epoch + 1),\n",
        "        )\n",
        "\n",
        "\n",
        "# Model configuration\n",
        "batch_size = 8092\n",
        "img_width, img_height, img_num_channels = 32, 32, 3\n",
        "loss_function = categorical_crossentropy\n",
        "no_classes = 10\n",
        "no_epochs = 5\n",
        "optimizer = Adam()\n",
        "verbosity = 1\n",
        "validation_split = 0.2\n",
        "interval = 1\n",
        "\n",
        "# Load CIFAR-100 data\n",
        "(input_train, target_train), (input_test, target_test) = cifar10.load_data()\n",
        "\n",
        "# Determine shape of the data\n",
        "input_shape = (img_width, img_height, img_num_channels)\n",
        "\n",
        "target_train, target_test = tuple(\n",
        "    map(lambda x: keras.utils.to_categorical(x), [target_train, target_test])\n",
        ")\n",
        "\n",
        "# Parse numbers as floats\n",
        "input_train = input_train.astype(\"float32\")\n",
        "input_test = input_test.astype(\"float32\")\n",
        "\n",
        "# Normalize data\n",
        "input_train = input_train / 255\n",
        "input_test = input_test / 255\n",
        "\n",
        "# Create the model\n",
        "model = Sequential()\n",
        "model.add(Conv2D(128, kernel_size=(3, 3), activation=\"relu\", input_shape=input_shape))\n",
        "model.add(MaxPooling2D(pool_size=(2, 2)))\n",
        "model.add(Conv2D(128, kernel_size=(3, 3), activation=\"relu\"))\n",
        "model.add(MaxPooling2D(pool_size=(2, 2)))\n",
        "model.add(Conv2D(64, kernel_size=(3, 3), activation=\"relu\"))\n",
        "model.add(MaxPooling2D(pool_size=(2, 2)))\n",
        "model.add(Flatten())\n",
        "model.add(Dense(256, activation=\"relu\"))\n",
        "model.add(Dense(128, activation=\"relu\"))\n",
        "model.add(Dense(no_classes, activation=\"softmax\"))\n",
        "\n",
        "# Compile the model\n",
        "model.compile(loss=loss_function, optimizer=optimizer, metrics=[\"accuracy\"])\n",
        "\n",
        "PROJECT_NAME = \"p100-example\"\n",
        "experiment = comet_ml.Experiment(\n",
        "    project_name=PROJECT_NAME,\n",
        "    auto_metric_logging=True,\n",
        "    auto_param_logging=True,\n",
        "    auto_histogram_weight_logging=True,\n",
        "    auto_histogram_gradient_logging=True,\n",
        "    auto_histogram_activation_logging=True,\n",
        ")\n",
        "experiment.log_parameter(\"batch_size\", batch_size)\n",
        "confmat = ConfusionMatrixCallback(experiment, input_test, target_test, interval)\n",
        "\n",
        "# Fit data to model\n",
        "model.fit(\n",
        "    input_train,\n",
        "    target_train,\n",
        "    batch_size=batch_size,\n",
        "    epochs=no_epochs,\n",
        "    verbose=verbosity,\n",
        "    validation_split=validation_split,\n",
        "    callbacks=[confmat],\n",
        ")"
      ],
      "execution_count": null,
      "outputs": []
    },
    {
      "cell_type": "code",
      "metadata": {
        "colab": {
          "base_uri": "https://localhost:8080/",
          "height": 820
        },
        "id": "2J8ft5mf68PP",
        "outputId": "a2657098-8004-4e24-89e9-c2df811fe741"
      },
      "source": [
        "experiment.display()"
      ],
      "execution_count": null,
      "outputs": [
        {
          "output_type": "display_data",
          "data": {
            "text/html": [
              "\n",
              "        <iframe\n",
              "            width=\"100%\"\n",
              "            height=\"800px\"\n",
              "            src=\"https://www.comet.ml/team-comet-ml/p100-example/ae31ba992f944a1da4bdf7eddbec93f8\"\n",
              "            frameborder=\"0\"\n",
              "            allowfullscreen\n",
              "        ></iframe>\n",
              "        "
            ],
            "text/plain": [
              "<IPython.lib.display.IFrame at 0x7fbea24567d0>"
            ]
          },
          "metadata": {
            "tags": []
          }
        }
      ]
    },
    {
      "cell_type": "code",
      "metadata": {
        "colab": {
          "base_uri": "https://localhost:8080/"
        },
        "id": "AU2f2kbYyMmW",
        "outputId": "0c3eefd6-d84c-45dc-f467-2ee4af1de0b3"
      },
      "source": [
        "experiment.end()"
      ],
      "execution_count": null,
      "outputs": [
        {
          "output_type": "stream",
          "text": [
            "COMET INFO: ---------------------------\n",
            "COMET INFO: Comet.ml Experiment Summary\n",
            "COMET INFO: ---------------------------\n",
            "COMET INFO:   Data:\n",
            "COMET INFO:     display_summary_level : 1\n",
            "COMET INFO:     url                   : https://www.comet.ml/team-comet-ml/p100-example/ae31ba992f944a1da4bdf7eddbec93f8\n",
            "COMET INFO:   Metrics [count] (min, max):\n",
            "COMET INFO:     accuracy [5]                : (0.12142500281333923, 0.29512500762939453)\n",
            "COMET INFO:     batch_accuracy [5]          : (0.10998517274856567, 0.27570441365242004)\n",
            "COMET INFO:     batch_loss [5]              : (1.958383560180664, 2.303607702255249)\n",
            "COMET INFO:     epoch_duration [5]          : (20.23970210599964, 23.99688416800018)\n",
            "COMET INFO:     loss [5]                    : (1.9239593744277954, 2.2899484634399414)\n",
            "COMET INFO:     val_accuracy [5]            : (0.17190000414848328, 0.3156000077724457)\n",
            "COMET INFO:     val_loss [5]                : (1.879258155822754, 2.2446868419647217)\n",
            "COMET INFO:     validate_batch_accuracy [5] : (0.16967375576496124, 0.31636184453964233)\n",
            "COMET INFO:     validate_batch_loss [5]     : (1.880629539489746, 2.245314836502075)\n",
            "COMET INFO:   Others:\n",
            "COMET INFO:     trainable_params : 324938\n",
            "COMET INFO:   Parameters:\n",
            "COMET INFO:     Adam_amsgrad       : 1\n",
            "COMET INFO:     Adam_beta_1        : 0.9\n",
            "COMET INFO:     Adam_beta_2        : 0.999\n",
            "COMET INFO:     Adam_decay         : 1\n",
            "COMET INFO:     Adam_epsilon       : 1e-07\n",
            "COMET INFO:     Adam_learning_rate : 0.001\n",
            "COMET INFO:     Adam_name          : Adam\n",
            "COMET INFO:     batch_size         : 8092\n",
            "COMET INFO:     epochs             : 5\n",
            "COMET INFO:     steps              : 5\n",
            "COMET INFO:   Uploads [count]:\n",
            "COMET INFO:     confusion-matrix [5] : 5\n",
            "COMET INFO:     environment details  : 1\n",
            "COMET INFO:     filename             : 1\n",
            "COMET INFO:     histogram3d [90]     : 90\n",
            "COMET INFO:     images [10031]       : 10031\n",
            "COMET INFO:     installed packages   : 1\n",
            "COMET INFO:     model graph          : 1\n",
            "COMET INFO:     notebook             : 1\n",
            "COMET INFO:     os packages          : 1\n",
            "COMET INFO:     source_code          : 1\n",
            "COMET INFO: ---------------------------\n",
            "COMET INFO: Uploading 1 metrics, params and output messages\n"
          ],
          "name": "stderr"
        }
      ]
    },
    {
      "cell_type": "code",
      "metadata": {
        "id": "jaG_V9027o0n"
      },
      "source": [
        ""
      ],
      "execution_count": null,
      "outputs": []
    }
  ]
}